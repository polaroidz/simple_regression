{
  "nbformat": 4,
  "nbformat_minor": 0,
  "metadata": {
    "colab": {
      "name": "Regressão Simples.ipynb",
      "provenance": [],
      "toc_visible": true,
      "authorship_tag": "ABX9TyM4Ex9e78zANnQ2m7EBJb2p",
      "include_colab_link": true
    },
    "kernelspec": {
      "name": "python3",
      "display_name": "Python 3"
    }
  },
  "cells": [
    {
      "cell_type": "markdown",
      "metadata": {
        "id": "view-in-github",
        "colab_type": "text"
      },
      "source": [
        "<a href=\"https://colab.research.google.com/github/polaroidz/simple_regression/blob/main/Regress%C3%A3o_Simples.ipynb\" target=\"_parent\"><img src=\"https://colab.research.google.com/assets/colab-badge.svg\" alt=\"Open In Colab\"/></a>"
      ]
    },
    {
      "cell_type": "code",
      "metadata": {
        "id": "6MSnbn1c6bcF"
      },
      "source": [
        "import numpy as np\n",
        "import pandas as pd\n",
        "import matplotlib.pyplot as plt\n",
        "from statsmodels.api import OLS"
      ],
      "execution_count": 147,
      "outputs": []
    },
    {
      "cell_type": "markdown",
      "metadata": {
        "id": "1SAr-y79MK3m"
      },
      "source": [
        "### Modelar a relação entre o investimento em propaganda com o retorno financeiro obtido."
      ]
    },
    {
      "cell_type": "code",
      "metadata": {
        "id": "EgFG63nC7lEy"
      },
      "source": [
        "dataset = pd.read_excel('./PR.xls', \n",
        "                        sheet_name='RGLS1', \n",
        "                        header=1, \n",
        "                        names=('Propaganda', 'Retorno'))"
      ],
      "execution_count": 148,
      "outputs": []
    },
    {
      "cell_type": "code",
      "metadata": {
        "colab": {
          "base_uri": "https://localhost:8080/",
          "height": 204
        },
        "id": "rGH_AeC077jn",
        "outputId": "9873b212-df20-45b0-a574-eb96445f905a"
      },
      "source": [
        "dataset.head()"
      ],
      "execution_count": 149,
      "outputs": [
        {
          "output_type": "execute_result",
          "data": {
            "text/html": [
              "<div>\n",
              "<style scoped>\n",
              "    .dataframe tbody tr th:only-of-type {\n",
              "        vertical-align: middle;\n",
              "    }\n",
              "\n",
              "    .dataframe tbody tr th {\n",
              "        vertical-align: top;\n",
              "    }\n",
              "\n",
              "    .dataframe thead th {\n",
              "        text-align: right;\n",
              "    }\n",
              "</style>\n",
              "<table border=\"1\" class=\"dataframe\">\n",
              "  <thead>\n",
              "    <tr style=\"text-align: right;\">\n",
              "      <th></th>\n",
              "      <th>Propaganda</th>\n",
              "      <th>Retorno</th>\n",
              "    </tr>\n",
              "  </thead>\n",
              "  <tbody>\n",
              "    <tr>\n",
              "      <th>0</th>\n",
              "      <td>0</td>\n",
              "      <td>8520.729865</td>\n",
              "    </tr>\n",
              "    <tr>\n",
              "      <th>1</th>\n",
              "      <td>0</td>\n",
              "      <td>12574.830000</td>\n",
              "    </tr>\n",
              "    <tr>\n",
              "      <th>2</th>\n",
              "      <td>0</td>\n",
              "      <td>6634.647902</td>\n",
              "    </tr>\n",
              "    <tr>\n",
              "      <th>3</th>\n",
              "      <td>0</td>\n",
              "      <td>7075.619195</td>\n",
              "    </tr>\n",
              "    <tr>\n",
              "      <th>4</th>\n",
              "      <td>0</td>\n",
              "      <td>7247.572298</td>\n",
              "    </tr>\n",
              "  </tbody>\n",
              "</table>\n",
              "</div>"
            ],
            "text/plain": [
              "   Propaganda       Retorno\n",
              "0           0   8520.729865\n",
              "1           0  12574.830000\n",
              "2           0   6634.647902\n",
              "3           0   7075.619195\n",
              "4           0   7247.572298"
            ]
          },
          "metadata": {
            "tags": []
          },
          "execution_count": 149
        }
      ]
    },
    {
      "cell_type": "code",
      "metadata": {
        "id": "uZlL4GP9783S"
      },
      "source": [
        "X = dataset['Propaganda']\n",
        "y = dataset['Retorno']"
      ],
      "execution_count": 150,
      "outputs": []
    },
    {
      "cell_type": "code",
      "metadata": {
        "colab": {
          "base_uri": "https://localhost:8080/",
          "height": 265
        },
        "id": "y_n-lsRw8DZ3",
        "outputId": "30d01679-9f84-4389-884b-35c07a7bfde5"
      },
      "source": [
        "plt.scatter(X, y);"
      ],
      "execution_count": 151,
      "outputs": [
        {
          "output_type": "display_data",
          "data": {
            "image/png": "[encoded data removed]",
            "text/plain": [
              "<Figure size 432x288 with 1 Axes>"
            ]
          },
          "metadata": {
            "tags": [],
            "needs_background": "light"
          }
        }
      ]
    },
    {
      "cell_type": "code",
      "metadata": {
        "colab": {
          "base_uri": "https://localhost:8080/",
          "height": 0
        },
        "id": "24yqVG1J8L5X",
        "outputId": "950cd432-5913-4059-ad89-3b053bb1d39f"
      },
      "source": [
        "X.corr(y)"
      ],
      "execution_count": 153,
      "outputs": [
        {
          "output_type": "execute_result",
          "data": {
            "text/plain": [
              "0.9479972919736424"
            ]
          },
          "metadata": {
            "tags": []
          },
          "execution_count": 153
        }
      ]
    },
    {
      "cell_type": "markdown",
      "metadata": {
        "id": "IG9nLr6XKXac"
      },
      "source": [
        "### A medida de correlação entre as variáveis indica uma relação linear forte que pode ser estimada por regressão linear."
      ]
    },
    {
      "cell_type": "code",
      "metadata": {
        "id": "xX0hBRyK-bgI"
      },
      "source": [
        "# Padronizando os dados\n",
        "X = (X - X.mean()) / X.std()\n",
        "y = (y - y.mean()) / y.std()"
      ],
      "execution_count": 154,
      "outputs": []
    },
    {
      "cell_type": "code",
      "metadata": {
        "colab": {
          "base_uri": "https://localhost:8080/",
          "height": 0
        },
        "id": "W1X_34c78zSd",
        "outputId": "e1e1fb1f-4a8d-41aa-8ec0-28972eaae52b"
      },
      "source": [
        "X = X.to_numpy().reshape(-1, 1)\n",
        "y = y.to_numpy().reshape(-1, 1)\n",
        "\n",
        "X.shape"
      ],
      "execution_count": 155,
      "outputs": [
        {
          "output_type": "execute_result",
          "data": {
            "text/plain": [
              "(99, 1)"
            ]
          },
          "metadata": {
            "tags": []
          },
          "execution_count": 155
        }
      ]
    },
    {
      "cell_type": "code",
      "metadata": {
        "colab": {
          "base_uri": "https://localhost:8080/",
          "height": 423
        },
        "id": "p1Ke8FZ1D9Zq",
        "outputId": "6c38b703-c5db-495b-e2f4-4939f7811163"
      },
      "source": [
        "ols = OLS(y,X).fit()\n",
        "\n",
        "ols.summary()"
      ],
      "execution_count": 156,
      "outputs": [
        {
          "output_type": "execute_result",
          "data": {
            "text/html": [
              "<table class=\"simpletable\">\n",
              "<caption>OLS Regression Results</caption>\n",
              "<tr>\n",
              "  <th>Dep. Variable:</th>            <td>y</td>        <th>  R-squared (uncentered):</th>      <td>   0.899</td>\n",
              "</tr>\n",
              "<tr>\n",
              "  <th>Model:</th>                   <td>OLS</td>       <th>  Adj. R-squared (uncentered):</th> <td>   0.898</td>\n",
              "</tr>\n",
              "<tr>\n",
              "  <th>Method:</th>             <td>Least Squares</td>  <th>  F-statistic:       </th>          <td>   869.4</td>\n",
              "</tr>\n",
              "<tr>\n",
              "  <th>Date:</th>             <td>Fri, 20 Nov 2020</td> <th>  Prob (F-statistic):</th>          <td>1.60e-50</td>\n",
              "</tr>\n",
              "<tr>\n",
              "  <th>Time:</th>                 <td>19:18:00</td>     <th>  Log-Likelihood:    </th>          <td> -26.634</td>\n",
              "</tr>\n",
              "<tr>\n",
              "  <th>No. Observations:</th>      <td>    99</td>      <th>  AIC:               </th>          <td>   55.27</td>\n",
              "</tr>\n",
              "<tr>\n",
              "  <th>Df Residuals:</th>          <td>    98</td>      <th>  BIC:               </th>          <td>   57.86</td>\n",
              "</tr>\n",
              "<tr>\n",
              "  <th>Df Model:</th>              <td>     1</td>      <th>                     </th>              <td> </td>   \n",
              "</tr>\n",
              "<tr>\n",
              "  <th>Covariance Type:</th>      <td>nonrobust</td>    <th>                     </th>              <td> </td>   \n",
              "</tr>\n",
              "</table>\n",
              "<table class=\"simpletable\">\n",
              "<tr>\n",
              "   <td></td>     <th>coef</th>     <th>std err</th>      <th>t</th>      <th>P>|t|</th>  <th>[0.025</th>    <th>0.975]</th>  \n",
              "</tr>\n",
              "<tr>\n",
              "  <th>x1</th> <td>    0.9480</td> <td>    0.032</td> <td>   29.486</td> <td> 0.000</td> <td>    0.884</td> <td>    1.012</td>\n",
              "</tr>\n",
              "</table>\n",
              "<table class=\"simpletable\">\n",
              "<tr>\n",
              "  <th>Omnibus:</th>       <td> 2.954</td> <th>  Durbin-Watson:     </th> <td>   0.431</td>\n",
              "</tr>\n",
              "<tr>\n",
              "  <th>Prob(Omnibus):</th> <td> 0.228</td> <th>  Jarque-Bera (JB):  </th> <td>   1.833</td>\n",
              "</tr>\n",
              "<tr>\n",
              "  <th>Skew:</th>          <td>-0.054</td> <th>  Prob(JB):          </th> <td>   0.400</td>\n",
              "</tr>\n",
              "<tr>\n",
              "  <th>Kurtosis:</th>      <td> 2.342</td> <th>  Cond. No.          </th> <td>    1.00</td>\n",
              "</tr>\n",
              "</table><br/><br/>Warnings:<br/>[1] Standard Errors assume that the covariance matrix of the errors is correctly specified."
            ],
            "text/plain": [
              "<class 'statsmodels.iolib.summary.Summary'>\n",
              "\"\"\"\n",
              "                                 OLS Regression Results                                \n",
              "=======================================================================================\n",
              "Dep. Variable:                      y   R-squared (uncentered):                   0.899\n",
              "Model:                            OLS   Adj. R-squared (uncentered):              0.898\n",
              "Method:                 Least Squares   F-statistic:                              869.4\n",
              "Date:                Fri, 20 Nov 2020   Prob (F-statistic):                    1.60e-50\n",
              "Time:                        19:18:00   Log-Likelihood:                         -26.634\n",
              "No. Observations:                  99   AIC:                                      55.27\n",
              "Df Residuals:                      98   BIC:                                      57.86\n",
              "Df Model:                           1                                                  \n",
              "Covariance Type:            nonrobust                                                  \n",
              "==============================================================================\n",
              "                 coef    std err          t      P>|t|      [0.025      0.975]\n",
              "------------------------------------------------------------------------------\n",
              "x1             0.9480      0.032     29.486      0.000       0.884       1.012\n",
              "==============================================================================\n",
              "Omnibus:                        2.954   Durbin-Watson:                   0.431\n",
              "Prob(Omnibus):                  0.228   Jarque-Bera (JB):                1.833\n",
              "Skew:                          -0.054   Prob(JB):                        0.400\n",
              "Kurtosis:                       2.342   Cond. No.                         1.00\n",
              "==============================================================================\n",
              "\n",
              "Warnings:\n",
              "[1] Standard Errors assume that the covariance matrix of the errors is correctly specified.\n",
              "\"\"\""
            ]
          },
          "metadata": {
            "tags": []
          },
          "execution_count": 156
        }
      ]
    },
    {
      "cell_type": "code",
      "metadata": {
        "colab": {
          "base_uri": "https://localhost:8080/",
          "height": 265
        },
        "id": "jVmqXdpxEfXZ",
        "outputId": "17e3d3aa-79eb-446d-b776-d26bb12f560c"
      },
      "source": [
        "y_pred = ols.predict(X)\n",
        "\n",
        "plt.scatter(X[:,0], y)\n",
        "plt.plot(X[:,0], y_pred, color='green');"
      ],
      "execution_count": 158,
      "outputs": [
        {
          "output_type": "display_data",
          "data": {
            "image/png": "[encoded data removed]",
            "text/plain": [
              "<Figure size 432x288 with 1 Axes>"
            ]
          },
          "metadata": {
            "tags": [],
            "needs_background": "light"
          }
        }
      ]
    },
    {
      "cell_type": "markdown",
      "metadata": {
        "id": "MvICFf7cKo6V"
      },
      "source": [
        "### Apesar da forte correlação o R^2 não passou de 0.9. O que indica que parte da variancia não está sendo explicada pela linha.\n",
        "\n",
        "### Verificamos uma mudança no declive dos dados que não está sendo replicado pela linha. Para adicionar essa informação no modelo vamos adicionar features polinomiais que podem beneficiar o modelo.\n",
        "\n"
      ]
    },
    {
      "cell_type": "code",
      "metadata": {
        "colab": {
          "base_uri": "https://localhost:8080/",
          "height": 0
        },
        "id": "yoY2VNimFlA3",
        "outputId": "a779e828-cb7d-49bc-bf63-b57410896beb"
      },
      "source": [
        "from sklearn.preprocessing import PolynomialFeatures\n",
        "\n",
        "poly = PolynomialFeatures(degree=2)\n",
        "X = poly.fit_transform(X)\n",
        "\n",
        "X.shape"
      ],
      "execution_count": 160,
      "outputs": [
        {
          "output_type": "execute_result",
          "data": {
            "text/plain": [
              "(99, 3)"
            ]
          },
          "metadata": {
            "tags": []
          },
          "execution_count": 160
        }
      ]
    },
    {
      "cell_type": "code",
      "metadata": {
        "colab": {
          "base_uri": "https://localhost:8080/",
          "height": 465
        },
        "id": "bt57gQfqGHJu",
        "outputId": "a162f159-43dc-47b6-a4b4-cc9866a4b034"
      },
      "source": [
        "ols = OLS(y,X).fit()\n",
        "\n",
        "ols.summary()"
      ],
      "execution_count": 161,
      "outputs": [
        {
          "output_type": "execute_result",
          "data": {
            "text/html": [
              "<table class=\"simpletable\">\n",
              "<caption>OLS Regression Results</caption>\n",
              "<tr>\n",
              "  <th>Dep. Variable:</th>            <td>y</td>        <th>  R-squared:         </th> <td>   0.974</td>\n",
              "</tr>\n",
              "<tr>\n",
              "  <th>Model:</th>                   <td>OLS</td>       <th>  Adj. R-squared:    </th> <td>   0.974</td>\n",
              "</tr>\n",
              "<tr>\n",
              "  <th>Method:</th>             <td>Least Squares</td>  <th>  F-statistic:       </th> <td>   1803.</td>\n",
              "</tr>\n",
              "<tr>\n",
              "  <th>Date:</th>             <td>Fri, 20 Nov 2020</td> <th>  Prob (F-statistic):</th> <td>7.29e-77</td>\n",
              "</tr>\n",
              "<tr>\n",
              "  <th>Time:</th>                 <td>19:19:39</td>     <th>  Log-Likelihood:    </th> <td>  40.819</td>\n",
              "</tr>\n",
              "<tr>\n",
              "  <th>No. Observations:</th>      <td>    99</td>      <th>  AIC:               </th> <td>  -75.64</td>\n",
              "</tr>\n",
              "<tr>\n",
              "  <th>Df Residuals:</th>          <td>    96</td>      <th>  BIC:               </th> <td>  -67.85</td>\n",
              "</tr>\n",
              "<tr>\n",
              "  <th>Df Model:</th>              <td>     2</td>      <th>                     </th>     <td> </td>   \n",
              "</tr>\n",
              "<tr>\n",
              "  <th>Covariance Type:</th>      <td>nonrobust</td>    <th>                     </th>     <td> </td>   \n",
              "</tr>\n",
              "</table>\n",
              "<table class=\"simpletable\">\n",
              "<tr>\n",
              "    <td></td>       <th>coef</th>     <th>std err</th>      <th>t</th>      <th>P>|t|</th>  <th>[0.025</th>    <th>0.975]</th>  \n",
              "</tr>\n",
              "<tr>\n",
              "  <th>const</th> <td>    0.3083</td> <td>    0.025</td> <td>   12.504</td> <td> 0.000</td> <td>    0.259</td> <td>    0.357</td>\n",
              "</tr>\n",
              "<tr>\n",
              "  <th>x1</th>    <td>    0.9455</td> <td>    0.016</td> <td>   57.527</td> <td> 0.000</td> <td>    0.913</td> <td>    0.978</td>\n",
              "</tr>\n",
              "<tr>\n",
              "  <th>x2</th>    <td>   -0.3115</td> <td>    0.019</td> <td>  -16.705</td> <td> 0.000</td> <td>   -0.349</td> <td>   -0.274</td>\n",
              "</tr>\n",
              "</table>\n",
              "<table class=\"simpletable\">\n",
              "<tr>\n",
              "  <th>Omnibus:</th>       <td> 2.920</td> <th>  Durbin-Watson:     </th> <td>   1.533</td>\n",
              "</tr>\n",
              "<tr>\n",
              "  <th>Prob(Omnibus):</th> <td> 0.232</td> <th>  Jarque-Bera (JB):  </th> <td>   2.530</td>\n",
              "</tr>\n",
              "<tr>\n",
              "  <th>Skew:</th>          <td> 0.390</td> <th>  Prob(JB):          </th> <td>   0.282</td>\n",
              "</tr>\n",
              "<tr>\n",
              "  <th>Kurtosis:</th>      <td> 3.078</td> <th>  Cond. No.          </th> <td>    2.77</td>\n",
              "</tr>\n",
              "</table><br/><br/>Warnings:<br/>[1] Standard Errors assume that the covariance matrix of the errors is correctly specified."
            ],
            "text/plain": [
              "<class 'statsmodels.iolib.summary.Summary'>\n",
              "\"\"\"\n",
              "                            OLS Regression Results                            \n",
              "==============================================================================\n",
              "Dep. Variable:                      y   R-squared:                       0.974\n",
              "Model:                            OLS   Adj. R-squared:                  0.974\n",
              "Method:                 Least Squares   F-statistic:                     1803.\n",
              "Date:                Fri, 20 Nov 2020   Prob (F-statistic):           7.29e-77\n",
              "Time:                        19:19:39   Log-Likelihood:                 40.819\n",
              "No. Observations:                  99   AIC:                            -75.64\n",
              "Df Residuals:                      96   BIC:                            -67.85\n",
              "Df Model:                           2                                         \n",
              "Covariance Type:            nonrobust                                         \n",
              "==============================================================================\n",
              "                 coef    std err          t      P>|t|      [0.025      0.975]\n",
              "------------------------------------------------------------------------------\n",
              "const          0.3083      0.025     12.504      0.000       0.259       0.357\n",
              "x1             0.9455      0.016     57.527      0.000       0.913       0.978\n",
              "x2            -0.3115      0.019    -16.705      0.000      -0.349      -0.274\n",
              "==============================================================================\n",
              "Omnibus:                        2.920   Durbin-Watson:                   1.533\n",
              "Prob(Omnibus):                  0.232   Jarque-Bera (JB):                2.530\n",
              "Skew:                           0.390   Prob(JB):                        0.282\n",
              "Kurtosis:                       3.078   Cond. No.                         2.77\n",
              "==============================================================================\n",
              "\n",
              "Warnings:\n",
              "[1] Standard Errors assume that the covariance matrix of the errors is correctly specified.\n",
              "\"\"\""
            ]
          },
          "metadata": {
            "tags": []
          },
          "execution_count": 161
        }
      ]
    },
    {
      "cell_type": "code",
      "metadata": {
        "colab": {
          "base_uri": "https://localhost:8080/",
          "height": 265
        },
        "id": "naiZ0rbgGQhi",
        "outputId": "f3921286-ba01-4b09-8480-5a2e73a51467"
      },
      "source": [
        "y_pred = ols.predict(X)\n",
        "\n",
        "plt.scatter(X[:,1], y)\n",
        "plt.plot(X[:,1], y_pred, color='green');"
      ],
      "execution_count": 162,
      "outputs": [
        {
          "output_type": "display_data",
          "data": {
            "image/png": "[encoded data removed]",
            "text/plain": [
              "<Figure size 432x288 with 1 Axes>"
            ]
          },
          "metadata": {
            "tags": [],
            "needs_background": "light"
          }
        }
      ]
    },
    {
      "cell_type": "markdown",
      "metadata": {
        "id": "N5rLLqkiL-O2"
      },
      "source": [
        "### Pronto. Obtemos uma linha que replica a mudança de declive observada nos dados."
      ]
    },
    {
      "cell_type": "code",
      "metadata": {
        "id": "Op548I18MGJh"
      },
      "source": [
        ""
      ],
      "execution_count": null,
      "outputs": []
    }
  ]
}